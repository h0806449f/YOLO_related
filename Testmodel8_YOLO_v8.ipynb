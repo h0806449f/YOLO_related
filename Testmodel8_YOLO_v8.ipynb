{
  "nbformat": 4,
  "nbformat_minor": 0,
  "metadata": {
    "colab": {
      "provenance": [],
      "gpuType": "T4",
      "authorship_tag": "ABX9TyM0iPD37FeuSRg2QSbZJ/tx",
      "include_colab_link": true
    },
    "kernelspec": {
      "name": "python3",
      "display_name": "Python 3"
    },
    "language_info": {
      "name": "python"
    },
    "accelerator": "GPU",
    "gpuClass": "standard"
  },
  "cells": [
    {
      "cell_type": "markdown",
      "metadata": {
        "id": "view-in-github",
        "colab_type": "text"
      },
      "source": [
        "<a href=\"https://colab.research.google.com/github/h0806449f/YOLO_related/blob/main/Testmodel8_YOLO_v8.ipynb\" target=\"_parent\"><img src=\"https://colab.research.google.com/assets/colab-badge.svg\" alt=\"Open In Colab\"/></a>"
      ]
    },
    {
      "cell_type": "code",
      "execution_count": 2,
      "metadata": {
        "colab": {
          "base_uri": "https://localhost:8080/"
        },
        "id": "qEik4P4jVLjy",
        "outputId": "7cd9665a-0f24-4aed-b416-7da6ce590779"
      },
      "outputs": [
        {
          "output_type": "stream",
          "name": "stdout",
          "text": [
            "/content\n"
          ]
        }
      ],
      "source": [
        "import os\n",
        "HOME = os.getcwd()\n",
        "print(HOME)"
      ]
    },
    {
      "cell_type": "code",
      "source": [
        "# Pip install method (recommended)\n",
        "\n",
        "!pip install ultralytics==8.0.20\n",
        "\n",
        "from IPython import display\n",
        "display.clear_output()\n",
        "\n",
        "import ultralytics\n",
        "ultralytics.checks()"
      ],
      "metadata": {
        "colab": {
          "base_uri": "https://localhost:8080/"
        },
        "id": "zvKN5GdRV1Zz",
        "outputId": "576e1f2e-f4a1-4194-dbbd-38b155d3811d"
      },
      "execution_count": 3,
      "outputs": [
        {
          "output_type": "stream",
          "name": "stderr",
          "text": [
            "Ultralytics YOLOv8.0.20 🚀 Python-3.10.11 torch-2.0.0+cu118 CUDA:0 (Tesla T4, 15102MiB)\n",
            "Setup complete ✅ (2 CPUs, 12.7 GB RAM, 23.4/78.2 GB disk)\n"
          ]
        }
      ]
    },
    {
      "cell_type": "code",
      "source": [
        "from ultralytics import YOLO\n",
        "from IPython.display import display, Image"
      ],
      "metadata": {
        "id": "hn798AozV88O"
      },
      "execution_count": 4,
      "outputs": []
    },
    {
      "cell_type": "markdown",
      "source": [
        "# P\n",
        "YOLO 相關參數\n",
        "1. task : `detect`, `classify`, `segment`\n",
        "2. mode : `train`, `predict`, `val`\n",
        "3. model : `YOLOv8n`.pt < `YOLOv8s`.pt < `YOLOv8m`.pt <  `YOLOv8l`.pt < `YOLOv8x`.pt \n",
        "4. conf : 預測分數\n",
        "5. source : 額外資料庫來源"
      ],
      "metadata": {
        "id": "g0w_sVc6WrWc"
      }
    },
    {
      "cell_type": "code",
      "source": [
        "model = YOLO(f'{HOME}/yolov8n.pt')\n",
        "results = model.predict(source='https://media.roboflow.com/notebooks/examples/dog.jpeg', conf=0.25)"
      ],
      "metadata": {
        "colab": {
          "base_uri": "https://localhost:8080/"
        },
        "id": "gjNUnMKiWsdw",
        "outputId": "8ee18436-8e6c-4515-882f-9c6c31453005"
      },
      "execution_count": 5,
      "outputs": [
        {
          "output_type": "stream",
          "name": "stderr",
          "text": [
            "Downloading https://github.com/ultralytics/assets/releases/download/v0.0.0/yolov8n.pt to /content/yolov8n.pt...\n",
            "100%|██████████| 6.23M/6.23M [00:00<00:00, 284MB/s]\n",
            "\n",
            "Ultralytics YOLOv8.0.20 🚀 Python-3.10.11 torch-2.0.0+cu118 CUDA:0 (Tesla T4, 15102MiB)\n",
            "YOLOv8n summary (fused): 168 layers, 3151904 parameters, 0 gradients, 8.7 GFLOPs\n",
            "Downloading https://media.roboflow.com/notebooks/examples/dog.jpeg to dog.jpeg...\n",
            "100%|██████████| 104k/104k [00:00<00:00, 50.2MB/s]\n"
          ]
        }
      ]
    },
    {
      "cell_type": "code",
      "source": [
        "results[0].boxes.xyxy"
      ],
      "metadata": {
        "colab": {
          "base_uri": "https://localhost:8080/"
        },
        "id": "r-24r6K2Wz1O",
        "outputId": "72ce2020-623a-4797-9db5-553b73baf1dc"
      },
      "execution_count": 6,
      "outputs": [
        {
          "output_type": "execute_result",
          "data": {
            "text/plain": [
              "tensor([[   0.,  314.,  625., 1278.],\n",
              "        [  55.,  250.,  648., 1266.],\n",
              "        [ 633.,  720.,  701.,  786.]], device='cuda:0')"
            ]
          },
          "metadata": {},
          "execution_count": 6
        }
      ]
    },
    {
      "cell_type": "code",
      "source": [
        "results[0].boxes.conf"
      ],
      "metadata": {
        "colab": {
          "base_uri": "https://localhost:8080/"
        },
        "id": "Pyj97vC0W0O1",
        "outputId": "68ec2df3-0e13-49a3-96c5-7420bf119e55"
      },
      "execution_count": 7,
      "outputs": [
        {
          "output_type": "execute_result",
          "data": {
            "text/plain": [
              "tensor([0.72713, 0.29066, 0.28456], device='cuda:0')"
            ]
          },
          "metadata": {},
          "execution_count": 7
        }
      ]
    },
    {
      "cell_type": "code",
      "source": [
        "results[0].boxes.cls"
      ],
      "metadata": {
        "colab": {
          "base_uri": "https://localhost:8080/"
        },
        "id": "d3G5a6reW12i",
        "outputId": "77e330d0-5121-452f-cf23-4363ff4c171a"
      },
      "execution_count": 8,
      "outputs": [
        {
          "output_type": "execute_result",
          "data": {
            "text/plain": [
              "tensor([ 0., 16.,  2.], device='cuda:0')"
            ]
          },
          "metadata": {},
          "execution_count": 8
        }
      ]
    },
    {
      "cell_type": "code",
      "source": [
        "print(results)"
      ],
      "metadata": {
        "colab": {
          "base_uri": "https://localhost:8080/"
        },
        "id": "ByvB9WaAW8EJ",
        "outputId": "c2b46959-919a-448a-f9b4-a6f10e0af28a"
      },
      "execution_count": 10,
      "outputs": [
        {
          "output_type": "stream",
          "name": "stdout",
          "text": [
            "[Ultralytics YOLO <class 'ultralytics.yolo.engine.results.Boxes'> masks\n",
            "type: <class 'torch.Tensor'>\n",
            "shape: torch.Size([3, 6])\n",
            "dtype: torch.float32\n",
            " + tensor([[0.00000e+00, 3.14000e+02, 6.25000e+02, 1.27800e+03, 7.27125e-01, 0.00000e+00],\n",
            "        [5.50000e+01, 2.50000e+02, 6.48000e+02, 1.26600e+03, 2.90664e-01, 1.60000e+01],\n",
            "        [6.33000e+02, 7.20000e+02, 7.01000e+02, 7.86000e+02, 2.84555e-01, 2.00000e+00]], device='cuda:0')]\n"
          ]
        }
      ]
    }
  ]
}